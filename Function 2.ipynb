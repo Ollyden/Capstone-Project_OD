{
 "cells": [
  {
   "cell_type": "code",
   "execution_count": 1,
   "id": "e4fa3f6f",
   "metadata": {},
   "outputs": [],
   "source": [
    "import numpy as np\n",
    "import matplotlib.pyplot as plt\n",
    "from scipy.stats import norm\n",
    "from sklearn.gaussian_process import GaussianProcessRegressor\n",
    "from sklearn.gaussian_process.kernels import Matern\n",
    "from sklearn.gaussian_process.kernels import ConstantKernel, RBF\n",
    "from scipy.optimize import minimize"
   ]
  },
  {
   "cell_type": "code",
   "execution_count": 2,
   "id": "1a3db42e",
   "metadata": {},
   "outputs": [
    {
     "data": {
      "text/plain": [
       "'This corresponds to trying to optimise an unknown machine learning model. However, the initialization of the\\nmodel is very important, meaning your observations will be very noisy, and the problem might have a lot of \\nlocal optima! You are trying to make the model’s log-likelihood as large as possible.'"
      ]
     },
     "execution_count": 2,
     "metadata": {},
     "output_type": "execute_result"
    }
   ],
   "source": [
    "#Description of function; optimising noisy models. 2D.\n",
    "\n",
    "\"\"\"This corresponds to trying to optimise an unknown machine learning model. However, the initialization of the\n",
    "model is very important, meaning your observations will be very noisy, and the problem might have a lot of \n",
    "local optima! You are trying to make the model’s log-likelihood as large as possible.\"\"\""
   ]
  },
  {
   "cell_type": "code",
   "execution_count": 4,
   "id": "7753061e",
   "metadata": {},
   "outputs": [
    {
     "name": "stdout",
     "output_type": "stream",
     "text": [
      "[[6.65799580e-01 1.23969128e-01]\n",
      " [8.77790989e-01 7.78627501e-01]\n",
      " [1.42699074e-01 3.49005131e-01]\n",
      " [8.45275429e-01 7.11120267e-01]\n",
      " [4.54647141e-01 2.90455180e-01]\n",
      " [5.77712844e-01 7.71973184e-01]\n",
      " [4.38166062e-01 6.85018257e-01]\n",
      " [3.41749593e-01 2.86977198e-02]\n",
      " [3.38648157e-01 2.13867246e-01]\n",
      " [7.02636557e-01 9.26564198e-01]\n",
      " [6.50000000e-01 9.70000000e-01]\n",
      " [9.89911000e-01 5.58841000e-01]\n",
      " [7.00000000e-01 5.00000000e-01]\n",
      " [8.59455000e-01 9.99085000e-01]\n",
      " [9.82536000e-01 8.59800000e-03]\n",
      " [7.39260000e-02 8.23424000e-01]\n",
      " [7.30231000e-01 3.21235000e-01]\n",
      " [6.66666000e-01 0.00000000e+00]\n",
      " [1.04500000e-03 1.48000000e-04]\n",
      " [1.35554000e-01 4.97000000e-04]\n",
      " [1.51515000e-01 6.66666000e-01]]\n",
      "[ 0.53899612  0.42058624 -0.06562362  0.29399291  0.21496451  0.02310555\n",
      "  0.24461934  0.03874902 -0.01385762  0.61120522  0.42939467 -0.00901589\n",
      "  0.56934707 -0.00904443  0.00755595 -0.02522332  0.44007036  0.46062889\n",
      " -0.11856957  0.05123142  0.03274878]\n"
     ]
    }
   ],
   "source": [
    "#Load datasets, append observations and queries\n",
    "X = np.load('initial_inputs.npy')\n",
    "y = np.load('initial_outputs.npy')\n",
    "\n",
    "X_queries = [[0.65, 0.97],\n",
    "             [0.989911, 0.558841],\n",
    "             [0.7, 0.5],\n",
    "             [0.859455, 0.999085],\n",
    "             [0.982536, 0.008598],\n",
    "             [0.073926, 0.823424],\n",
    "             [0.730231, 0.321235], #Here is where I changed n_restarts_optimiser to 100.\n",
    "             [0.666666, 0.      ],\n",
    "             [0.001045, 0.000148],\n",
    "             [0.135554, 0.000497],\n",
    "             [0.151515, 0.666666],\n",
    "             [0.577757, 0.467948]] \n",
    "\n",
    "y_observations = [0.42939466899612583,\n",
    "                  -0.009015893207003104,\n",
    "                  0.5693470693562224,\n",
    "                  -0.009044434420832949,\n",
    "                  0.007555953833578934,\n",
    "                  -0.0252233158345328,\n",
    "                  0.4400703592693548,\n",
    "                  0.4606288851745046,\n",
    "                  -0.11856957227811135,\n",
    "                  0.05123141676995291,\n",
    "                  0.03274877645078427,\n",
    "                  0.02585132916249402]\n",
    "\n",
    "X = np.append(X, X_queries).reshape(-1,2)\n",
    "y = np.append(y, y_observations)\n",
    "\n",
    "print(X)\n",
    "print(y)"
   ]
  },
  {
   "cell_type": "code",
   "execution_count": 5,
   "id": "cf00e0a9",
   "metadata": {},
   "outputs": [
    {
     "data": {
      "image/png": "[encoded data removed]",
      "text/plain": [
       "<Figure size 576x360 with 2 Axes>"
      ]
     },
     "metadata": {
      "needs_background": "light"
     },
     "output_type": "display_data"
    }
   ],
   "source": [
    "#Display points\n",
    "fig, ax = plt.subplots()\n",
    "fig.set_figheight(5)\n",
    "fig.set_figwidth(8)\n",
    "plt.scatter(X[:, 0], X[:, 1], c = y)\n",
    "plt.colorbar()\n",
    "plt.show()"
   ]
  },
  {
   "cell_type": "code",
   "execution_count": 7,
   "id": "a215540a",
   "metadata": {},
   "outputs": [
    {
     "data": {
      "text/plain": [
       "[0.0, 1.0]"
      ]
     },
     "execution_count": 7,
     "metadata": {},
     "output_type": "execute_result"
    }
   ],
   "source": [
    "# Create the Gaussian Process model (original solution)\n",
    "gp_model = GaussianProcessRegressor()\n",
    "\n",
    "x1 = np.linspace(0, 1, 100)\n",
    "x2 = np.linspace(0, 1, 100)\n",
    "\n",
    "X_grid = []\n",
    "for i in range(len(x1)):\n",
    "    for j in range(len(x2)):\n",
    "        X_grid.append([x1[i], x2[j]])\n",
    "\n",
    "for _ in range(11):\n",
    "    # Fit the GP model to existing observations\n",
    "    gp_model.fit(X, y)\n",
    "\n",
    "    # Define the acquisition function (UCB)\n",
    "    mean, std = gp_model.predict(X_grid, return_std=True)\n",
    "    ucb_values = mean + 0.96 * std  # kappa is a parameter to control exploration\n",
    "\n",
    "    # Find the next point with maximum UCB value\n",
    "    next_point = X_grid[np.argmax(ucb_values)]\n",
    "\n",
    "next_point"
   ]
  },
  {
   "cell_type": "code",
   "execution_count": 9,
   "id": "97e68746",
   "metadata": {},
   "outputs": [
    {
     "name": "stdout",
     "output_type": "stream",
     "text": [
      "Next query point: [0.00552812 0.999755  ]\n"
     ]
    }
   ],
   "source": [
    "# Acquisition function (Upper Confidence Bound, UCB) using random samples\n",
    "def ucb_acquisition(x, model, kappa=1):\n",
    "    mean, std = model.predict(x.reshape(1, -1), return_std=True)\n",
    "    return mean + kappa * std\n",
    "\n",
    "# Define the Gaussian process model\n",
    "kernel = RBF(1.0, length_scale_bounds=\"fixed\")\n",
    "model = GaussianProcessRegressor(kernel=kernel, n_restarts_optimizer=1000)\n",
    "\n",
    "# Number of iterations or queries\n",
    "num_queries = 1\n",
    "\n",
    "# UCB parameter (adjust as needed)\n",
    "kappa = 1.96\n",
    "\n",
    "# Perform Bayesian optimization with UCB\n",
    "for _ in range(num_queries):\n",
    "    # Fit the Gaussian process model to the existing data\n",
    "    model.fit(X, y)\n",
    "\n",
    "    # Optimize the acquisition function to get the next query point\n",
    "    next_query_point = None\n",
    "    best_acquisition_value = -np.inf\n",
    "\n",
    "    # Sample random points and select the one with the highest UCB value\n",
    "    num_random_samples = 200000\n",
    "    random_samples = np.random.rand(num_random_samples, 2)\n",
    "\n",
    "    for sample in random_samples:\n",
    "        acquisition_value = ucb_acquisition(sample, model, kappa)\n",
    "        if acquisition_value > best_acquisition_value:\n",
    "            best_acquisition_value = acquisition_value\n",
    "            next_query_point = sample\n",
    "\n",
    "    print(\"Next query point:\", next_query_point)"
   ]
  },
  {
   "cell_type": "code",
   "execution_count": 6,
   "id": "02096528",
   "metadata": {},
   "outputs": [
    {
     "name": "stdout",
     "output_type": "stream",
     "text": [
      "Next points to query: [0.577757 0.467948]\n"
     ]
    }
   ],
   "source": [
    "# Define the Gaussian process model\n",
    "kernel = Matern(length_scale=1.0)\n",
    "gp_model = GaussianProcessRegressor(kernel=kernel, n_restarts_optimizer=100)\n",
    "\n",
    "# Fit the Gaussian process model to existing data\n",
    "gp_model.fit(X, y.reshape(-1, 1))\n",
    "\n",
    "# Acquisition function: Expected Improvement (EI)\n",
    "def expected_improvement(X, gp_model, best_observed_value, xi=0.1):\n",
    "    mean, std_dev = gp_model.predict(X, return_std=True)\n",
    "\n",
    "    with np.errstate(divide='warn'):\n",
    "        z = (mean - best_observed_value - xi) / std_dev\n",
    "        ei_values = (mean - best_observed_value - xi) * norm.cdf(z) + std_dev * norm.pdf(z)\n",
    "\n",
    "    ei_values[np.isnan(ei_values)] = 0.0  # Handle NaN values\n",
    "\n",
    "    return ei_values\n",
    "\n",
    "# Choose the next points to query using Expected Improvement\n",
    "best_observed_value = np.max(y)\n",
    "candidate_points = np.random.rand(300000, 2)  # Randomly generate candidate points for illustration\n",
    "\n",
    "ei_values = expected_improvement(candidate_points, gp_model, best_observed_value)\n",
    "next_points = candidate_points[np.argmax(ei_values)]\n",
    "next_points_rounded = np.round(next_points, decimals=6)\n",
    "\n",
    "print(\"Next points to query:\", next_points_rounded)"
   ]
  },
  {
   "cell_type": "code",
   "execution_count": null,
   "id": "1547da5b",
   "metadata": {},
   "outputs": [],
   "source": [
    "#25/02 - Changed n_restarts_optimizer to 100 - noticed faield to converge = poor results? Used Matern kernel with EI\n",
    "#02/03 - same approach\n",
    "#Both RBF and Matern are now suggesting points close to 0,0 --> so trying this.\n",
    "#again both suggesting the same point - so doing that"
   ]
  }
 ],
 "metadata": {
  "kernelspec": {
   "display_name": "Python 3",
   "language": "python",
   "name": "python3"
  },
  "language_info": {
   "codemirror_mode": {
    "name": "ipython",
    "version": 3
   },
   "file_extension": ".py",
   "mimetype": "text/x-python",
   "name": "python",
   "nbconvert_exporter": "python",
   "pygments_lexer": "ipython3",
   "version": "3.8.8"
  }
 },
 "nbformat": 4,
 "nbformat_minor": 5
}
